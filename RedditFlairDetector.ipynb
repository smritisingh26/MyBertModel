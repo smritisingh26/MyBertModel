{
 "cells": [
  {
   "cell_type": "markdown",
   "metadata": {},
   "source": [
    "## PART 1: REDDIT DATA COLLECTION "
   ]
  },
  {
   "cell_type": "markdown",
   "metadata": {},
   "source": [
    "PRAW, an acronym for “Python Reddit API Wrapper”, is a python package that allows for simple access to reddit's API. Here, PRAW is used to scrape from r/India, Reddit's official subreddit for India."
   ]
  },
  {
   "cell_type": "markdown",
   "metadata": {},
   "source": [
    "### ABOUT THE DATA:"
   ]
  },
  {
   "cell_type": "markdown",
   "metadata": {},
   "source": [
    "The posts of 12 categories have been scraped from r/India. These categories are: (In no particular order)\n",
    "1. Sports\n",
    "2. Entertainment\n",
    "3. Science-Technology\n",
    "4. COVID-19\n",
    "5. Politics\n",
    "6. Non-Political\n",
    "7. AskIndia\n",
    "8. Finance\n",
    "9. Economy\n",
    "10. CAA-NRC-NPC\n",
    "11. Photography\n",
    "12. Reddiquette"
   ]
  },
  {
   "cell_type": "markdown",
   "metadata": {},
   "source": [
    "### PYTHON SCRIPT TO SCRAPE THE DATA:"
   ]
  },
  {
   "cell_type": "raw",
   "metadata": {},
   "source": [
    "#ONE TIME EXECUTION INCLUDING COMMENTS:\n",
    "\n",
    "'''\n",
    "import praw\n",
    "import pandas as pd\n",
    "\n",
    "#Creating an instance of Reddit for authentication\n",
    "reddit = praw.Reddit(client_id='#', client_secret='#', user_agent='#')\n",
    "subreddit = reddit.subreddit('india')\n",
    "\n",
    "#Making a list of all flairs to be scraped\n",
    "flairs=[\"Coronavirus\",\"Politics\",\"Non-Political\",\"AskIndia\",\"Business/Finance\",\"Policy/Economy\",\"Photography\",\"CAA-NRC-NPR\",\"Science/Technology\",\"[R]eddiquette\",\"Entertainment\",\"Sports\"]\n",
    "\n",
    "#Making a dictionary of parameters of each post\n",
    "topics={\"flair\":[], \"title\":[], \"score\":[], \"id\":[], \"url\":[], \"comms_num\": [], \"created\": [], \"body\":[], \"author\":[], \"comments\":[]}\n",
    "\n",
    "#Scraping data in a neat format:\n",
    "for flair in flairs:\n",
    "  print(\"working on\"+flair)\n",
    "  try:\n",
    "      get_subreddits = subreddit.search(flair, limit=200)\n",
    "      ###Scrapes 200 posts of each flair \n",
    "  except:\n",
    "      print(\"An error occured in\"+flair)\n",
    "  for submission in get_subreddits:\n",
    "\n",
    "    topics[\"flair\"].append(flair)\n",
    "    topics[\"title\"].append(submission.title)\n",
    "    topics[\"score\"].append(submission.score)\n",
    "    topics[\"id\"].append(submission.id)\n",
    "    topics[\"url\"].append(submission.url)\n",
    "    topics[\"comms_num\"].append(submission.num_comments)\n",
    "    topics[\"created\"].append(submission.created)\n",
    "    topics[\"body\"].append(submission.selftext)\n",
    "    topics[\"author\"].append(submission.author)\n",
    "\n",
    "    submission.comments.replace_more(limit=None)\n",
    "    comment=''\n",
    "    for top_level_comment in submission.comments:\n",
    "      comment=comment + ' ' + top_level_comment.body\n",
    "    topics[\"comments\"].append(comment)\n",
    "\n",
    "df=pd.DataFrame(topics)\n",
    "df.to_csv('rIndia.csv', index=False)\n",
    "'''"
   ]
  },
  {
   "cell_type": "markdown",
   "metadata": {},
   "source": [
    "## PART 2: EXPLORATORY DATA ANALYSIS "
   ]
  },
  {
   "cell_type": "code",
   "execution_count": 2,
   "metadata": {},
   "outputs": [],
   "source": [
    "#Importing necessary Libraries:\n",
    "import pandas as pd \n",
    "import numpy as np\n",
    "import sklearn\n",
    "import nltk\n",
    "import gensim\n",
    "import re\n",
    "from nltk.corpus import stopwords\n",
    "from sklearn.model_selection import train_test_split\n",
    "from sklearn.feature_extraction.text import CountVectorizer, TfidfVectorizer\n",
    "from sklearn.metrics import accuracy_score, confusion_matrix\n",
    "import matplotlib.pyplot as plt\n",
    "%matplotlib inline"
   ]
  },
  {
   "cell_type": "code",
   "execution_count": 3,
   "metadata": {},
   "outputs": [
    {
     "data": {
      "text/html": [
       "<div>\n",
       "<style scoped>\n",
       "    .dataframe tbody tr th:only-of-type {\n",
       "        vertical-align: middle;\n",
       "    }\n",
       "\n",
       "    .dataframe tbody tr th {\n",
       "        vertical-align: top;\n",
       "    }\n",
       "\n",
       "    .dataframe thead th {\n",
       "        text-align: right;\n",
       "    }\n",
       "</style>\n",
       "<table border=\"1\" class=\"dataframe\">\n",
       "  <thead>\n",
       "    <tr style=\"text-align: right;\">\n",
       "      <th></th>\n",
       "      <th>flair</th>\n",
       "      <th>title</th>\n",
       "      <th>score</th>\n",
       "      <th>id</th>\n",
       "      <th>url</th>\n",
       "      <th>comms_num</th>\n",
       "      <th>created</th>\n",
       "      <th>body</th>\n",
       "      <th>author</th>\n",
       "      <th>comments</th>\n",
       "    </tr>\n",
       "  </thead>\n",
       "  <tbody>\n",
       "    <tr>\n",
       "      <th>0</th>\n",
       "      <td>Coronavirus</td>\n",
       "      <td>Coronavirus: How Shashi Tharoor Spent His MP F...</td>\n",
       "      <td>280</td>\n",
       "      <td>fwcvid</td>\n",
       "      <td>https://www.ndtv.com/kerala-news/coronavirus-h...</td>\n",
       "      <td>34</td>\n",
       "      <td>1.586258e+09</td>\n",
       "      <td>NaN</td>\n",
       "      <td>GuruDev1000</td>\n",
       "      <td>This guy seems like a good PM candidate, does...</td>\n",
       "    </tr>\n",
       "    <tr>\n",
       "      <th>1</th>\n",
       "      <td>Coronavirus</td>\n",
       "      <td>Muslims Spitting on Food, Hiding in Mosques to...</td>\n",
       "      <td>144</td>\n",
       "      <td>fwf28y</td>\n",
       "      <td>https://www.news18.com/news/buzz/muslims-spitt...</td>\n",
       "      <td>8</td>\n",
       "      <td>1.586268e+09</td>\n",
       "      <td>NaN</td>\n",
       "      <td>dlisfyn</td>\n",
       "      <td>Sounds like they picked up a reddit post a fe...</td>\n",
       "    </tr>\n",
       "    <tr>\n",
       "      <th>2</th>\n",
       "      <td>Coronavirus</td>\n",
       "      <td>Explained: Sampling bias drove sensationalist ...</td>\n",
       "      <td>157</td>\n",
       "      <td>fwe3n9</td>\n",
       "      <td>https://scroll.in/article/958392/explained-sam...</td>\n",
       "      <td>30</td>\n",
       "      <td>1.586263e+09</td>\n",
       "      <td>NaN</td>\n",
       "      <td>Fabulous-Rice</td>\n",
       "      <td>&gt;  [Several](https://twitter.com/MumbaiPolice...</td>\n",
       "    </tr>\n",
       "    <tr>\n",
       "      <th>3</th>\n",
       "      <td>Coronavirus</td>\n",
       "      <td>'Fear people in quarantine will be injected wi...</td>\n",
       "      <td>60</td>\n",
       "      <td>fwiwpk</td>\n",
       "      <td>https://www.firstpost.com/health/fear-people-i...</td>\n",
       "      <td>1</td>\n",
       "      <td>1.586288e+09</td>\n",
       "      <td>NaN</td>\n",
       "      <td>OrneryReflection</td>\n",
       "      <td>Because of these idiots the whole community g...</td>\n",
       "    </tr>\n",
       "    <tr>\n",
       "      <th>4</th>\n",
       "      <td>Coronavirus</td>\n",
       "      <td>Coronavirus &amp; Hydroxychloroquine -- India Cuts...</td>\n",
       "      <td>132</td>\n",
       "      <td>fwcud7</td>\n",
       "      <td>https://www.nationalreview.com/news/india-cuts...</td>\n",
       "      <td>19</td>\n",
       "      <td>1.586258e+09</td>\n",
       "      <td>NaN</td>\n",
       "      <td>im-the-stig</td>\n",
       "      <td>I don't really like Trump or Modi , but I sup...</td>\n",
       "    </tr>\n",
       "  </tbody>\n",
       "</table>\n",
       "</div>"
      ],
      "text/plain": [
       "         flair                                              title  score  \\\n",
       "0  Coronavirus  Coronavirus: How Shashi Tharoor Spent His MP F...    280   \n",
       "1  Coronavirus  Muslims Spitting on Food, Hiding in Mosques to...    144   \n",
       "2  Coronavirus  Explained: Sampling bias drove sensationalist ...    157   \n",
       "3  Coronavirus  'Fear people in quarantine will be injected wi...     60   \n",
       "4  Coronavirus  Coronavirus & Hydroxychloroquine -- India Cuts...    132   \n",
       "\n",
       "       id                                                url  comms_num  \\\n",
       "0  fwcvid  https://www.ndtv.com/kerala-news/coronavirus-h...         34   \n",
       "1  fwf28y  https://www.news18.com/news/buzz/muslims-spitt...          8   \n",
       "2  fwe3n9  https://scroll.in/article/958392/explained-sam...         30   \n",
       "3  fwiwpk  https://www.firstpost.com/health/fear-people-i...          1   \n",
       "4  fwcud7  https://www.nationalreview.com/news/india-cuts...         19   \n",
       "\n",
       "        created body            author  \\\n",
       "0  1.586258e+09  NaN       GuruDev1000   \n",
       "1  1.586268e+09  NaN           dlisfyn   \n",
       "2  1.586263e+09  NaN     Fabulous-Rice   \n",
       "3  1.586288e+09  NaN  OrneryReflection   \n",
       "4  1.586258e+09  NaN       im-the-stig   \n",
       "\n",
       "                                            comments  \n",
       "0   This guy seems like a good PM candidate, does...  \n",
       "1   Sounds like they picked up a reddit post a fe...  \n",
       "2   >  [Several](https://twitter.com/MumbaiPolice...  \n",
       "3   Because of these idiots the whole community g...  \n",
       "4   I don't really like Trump or Modi , but I sup...  "
      ]
     },
     "execution_count": 3,
     "metadata": {},
     "output_type": "execute_result"
    }
   ],
   "source": [
    "#Loading Dataframe \n",
    "df=pd.read_csv(\"/home/smriti/MIDAS/rIndia2.csv\")\n",
    "df.head()"
   ]
  },
  {
   "cell_type": "code",
   "execution_count": 4,
   "metadata": {},
   "outputs": [
    {
     "name": "stdout",
     "output_type": "stream",
     "text": [
      "<class 'pandas.core.frame.DataFrame'>\n",
      "RangeIndex: 2127 entries, 0 to 2126\n",
      "Data columns (total 10 columns):\n",
      "flair        2127 non-null object\n",
      "title        2127 non-null object\n",
      "score        2127 non-null int64\n",
      "id           2127 non-null object\n",
      "url          2127 non-null object\n",
      "comms_num    2127 non-null int64\n",
      "created      2127 non-null float64\n",
      "body         1198 non-null object\n",
      "author       2127 non-null object\n",
      "comments     1934 non-null object\n",
      "dtypes: float64(1), int64(2), object(7)\n",
      "memory usage: 166.2+ KB\n"
     ]
    }
   ],
   "source": [
    "df.info()"
   ]
  },
  {
   "cell_type": "markdown",
   "metadata": {},
   "source": [
    "Here, we observe that almost half of the posts don't have a body and a few of them don't have comments too. Since we can't just drop the rows/columns that have one of the parameters as NaN as that would further reduce our training dataset, let's replace it by another value. "
   ]
  },
  {
   "cell_type": "code",
   "execution_count": 5,
   "metadata": {},
   "outputs": [
    {
     "data": {
      "text/html": [
       "<div>\n",
       "<style scoped>\n",
       "    .dataframe tbody tr th:only-of-type {\n",
       "        vertical-align: middle;\n",
       "    }\n",
       "\n",
       "    .dataframe tbody tr th {\n",
       "        vertical-align: top;\n",
       "    }\n",
       "\n",
       "    .dataframe thead th {\n",
       "        text-align: right;\n",
       "    }\n",
       "</style>\n",
       "<table border=\"1\" class=\"dataframe\">\n",
       "  <thead>\n",
       "    <tr style=\"text-align: right;\">\n",
       "      <th></th>\n",
       "      <th>flair</th>\n",
       "      <th>title</th>\n",
       "      <th>score</th>\n",
       "      <th>id</th>\n",
       "      <th>url</th>\n",
       "      <th>comms_num</th>\n",
       "      <th>created</th>\n",
       "      <th>body</th>\n",
       "      <th>author</th>\n",
       "      <th>comments</th>\n",
       "    </tr>\n",
       "  </thead>\n",
       "  <tbody>\n",
       "    <tr>\n",
       "      <th>0</th>\n",
       "      <td>Coronavirus</td>\n",
       "      <td>Coronavirus: How Shashi Tharoor Spent His MP F...</td>\n",
       "      <td>280</td>\n",
       "      <td>fwcvid</td>\n",
       "      <td>https://www.ndtv.com/kerala-news/coronavirus-h...</td>\n",
       "      <td>34</td>\n",
       "      <td>1.586258e+09</td>\n",
       "      <td>NotApplicable</td>\n",
       "      <td>GuruDev1000</td>\n",
       "      <td>This guy seems like a good PM candidate, does...</td>\n",
       "    </tr>\n",
       "    <tr>\n",
       "      <th>1</th>\n",
       "      <td>Coronavirus</td>\n",
       "      <td>Muslims Spitting on Food, Hiding in Mosques to...</td>\n",
       "      <td>144</td>\n",
       "      <td>fwf28y</td>\n",
       "      <td>https://www.news18.com/news/buzz/muslims-spitt...</td>\n",
       "      <td>8</td>\n",
       "      <td>1.586268e+09</td>\n",
       "      <td>NotApplicable</td>\n",
       "      <td>dlisfyn</td>\n",
       "      <td>Sounds like they picked up a reddit post a fe...</td>\n",
       "    </tr>\n",
       "    <tr>\n",
       "      <th>2</th>\n",
       "      <td>Coronavirus</td>\n",
       "      <td>Explained: Sampling bias drove sensationalist ...</td>\n",
       "      <td>157</td>\n",
       "      <td>fwe3n9</td>\n",
       "      <td>https://scroll.in/article/958392/explained-sam...</td>\n",
       "      <td>30</td>\n",
       "      <td>1.586263e+09</td>\n",
       "      <td>NotApplicable</td>\n",
       "      <td>Fabulous-Rice</td>\n",
       "      <td>&gt;  [Several](https://twitter.com/MumbaiPolice...</td>\n",
       "    </tr>\n",
       "    <tr>\n",
       "      <th>3</th>\n",
       "      <td>Coronavirus</td>\n",
       "      <td>'Fear people in quarantine will be injected wi...</td>\n",
       "      <td>60</td>\n",
       "      <td>fwiwpk</td>\n",
       "      <td>https://www.firstpost.com/health/fear-people-i...</td>\n",
       "      <td>1</td>\n",
       "      <td>1.586288e+09</td>\n",
       "      <td>NotApplicable</td>\n",
       "      <td>OrneryReflection</td>\n",
       "      <td>Because of these idiots the whole community g...</td>\n",
       "    </tr>\n",
       "    <tr>\n",
       "      <th>4</th>\n",
       "      <td>Coronavirus</td>\n",
       "      <td>Coronavirus &amp; Hydroxychloroquine -- India Cuts...</td>\n",
       "      <td>132</td>\n",
       "      <td>fwcud7</td>\n",
       "      <td>https://www.nationalreview.com/news/india-cuts...</td>\n",
       "      <td>19</td>\n",
       "      <td>1.586258e+09</td>\n",
       "      <td>NotApplicable</td>\n",
       "      <td>im-the-stig</td>\n",
       "      <td>I don't really like Trump or Modi , but I sup...</td>\n",
       "    </tr>\n",
       "  </tbody>\n",
       "</table>\n",
       "</div>"
      ],
      "text/plain": [
       "         flair                                              title  score  \\\n",
       "0  Coronavirus  Coronavirus: How Shashi Tharoor Spent His MP F...    280   \n",
       "1  Coronavirus  Muslims Spitting on Food, Hiding in Mosques to...    144   \n",
       "2  Coronavirus  Explained: Sampling bias drove sensationalist ...    157   \n",
       "3  Coronavirus  'Fear people in quarantine will be injected wi...     60   \n",
       "4  Coronavirus  Coronavirus & Hydroxychloroquine -- India Cuts...    132   \n",
       "\n",
       "       id                                                url  comms_num  \\\n",
       "0  fwcvid  https://www.ndtv.com/kerala-news/coronavirus-h...         34   \n",
       "1  fwf28y  https://www.news18.com/news/buzz/muslims-spitt...          8   \n",
       "2  fwe3n9  https://scroll.in/article/958392/explained-sam...         30   \n",
       "3  fwiwpk  https://www.firstpost.com/health/fear-people-i...          1   \n",
       "4  fwcud7  https://www.nationalreview.com/news/india-cuts...         19   \n",
       "\n",
       "        created           body            author  \\\n",
       "0  1.586258e+09  NotApplicable       GuruDev1000   \n",
       "1  1.586268e+09  NotApplicable           dlisfyn   \n",
       "2  1.586263e+09  NotApplicable     Fabulous-Rice   \n",
       "3  1.586288e+09  NotApplicable  OrneryReflection   \n",
       "4  1.586258e+09  NotApplicable       im-the-stig   \n",
       "\n",
       "                                            comments  \n",
       "0   This guy seems like a good PM candidate, does...  \n",
       "1   Sounds like they picked up a reddit post a fe...  \n",
       "2   >  [Several](https://twitter.com/MumbaiPolice...  \n",
       "3   Because of these idiots the whole community g...  \n",
       "4   I don't really like Trump or Modi , but I sup...  "
      ]
     },
     "execution_count": 5,
     "metadata": {},
     "output_type": "execute_result"
    }
   ],
   "source": [
    "df['body'].fillna('NotApplicable', inplace=True)\n",
    "df['comments'].fillna('NotApplicable',inplace=True)\n",
    "df.head()"
   ]
  },
  {
   "cell_type": "code",
   "execution_count": 6,
   "metadata": {},
   "outputs": [
    {
     "data": {
      "text/plain": [
       "flair         object\n",
       "title         object\n",
       "score          int64\n",
       "id            object\n",
       "url           object\n",
       "comms_num      int64\n",
       "created      float64\n",
       "body          object\n",
       "author        object\n",
       "comments      object\n",
       "dtype: object"
      ]
     },
     "execution_count": 6,
     "metadata": {},
     "output_type": "execute_result"
    }
   ],
   "source": [
    "#Let's check the datatypes within the dataframe\n",
    "df.dtypes"
   ]
  },
  {
   "cell_type": "markdown",
   "metadata": {},
   "source": [
    "Now, a crucial step: Looking at the above columns, it is clear that not all of them are required for the purpose of predicting which flair they belong to. The score, the number of comments, the id of the post and the comments pertaining to the post provide no information about its flair. So we can safely get rid of these columns. "
   ]
  },
  {
   "cell_type": "markdown",
   "metadata": {},
   "source": [
    "Furthermore, the author and the date of posting might provide some insight, but that insight might be misleading too. For instance, if a person posts about politics most of the time,it doesn't entail that the user will not post about any other topic at some other time. Thus, we can get rid of these columns too. "
   ]
  },
  {
   "cell_type": "code",
   "execution_count": 7,
   "metadata": {},
   "outputs": [],
   "source": [
    "#Dropping Irrelevant columns:\n",
    "df=df.drop(['score','id','comms_num','created','author','comments'],axis=1)"
   ]
  },
  {
   "cell_type": "code",
   "execution_count": 8,
   "metadata": {},
   "outputs": [
    {
     "data": {
      "text/html": [
       "<div>\n",
       "<style scoped>\n",
       "    .dataframe tbody tr th:only-of-type {\n",
       "        vertical-align: middle;\n",
       "    }\n",
       "\n",
       "    .dataframe tbody tr th {\n",
       "        vertical-align: top;\n",
       "    }\n",
       "\n",
       "    .dataframe thead th {\n",
       "        text-align: right;\n",
       "    }\n",
       "</style>\n",
       "<table border=\"1\" class=\"dataframe\">\n",
       "  <thead>\n",
       "    <tr style=\"text-align: right;\">\n",
       "      <th></th>\n",
       "      <th>flair</th>\n",
       "      <th>title</th>\n",
       "      <th>url</th>\n",
       "      <th>body</th>\n",
       "    </tr>\n",
       "  </thead>\n",
       "  <tbody>\n",
       "    <tr>\n",
       "      <th>0</th>\n",
       "      <td>Coronavirus</td>\n",
       "      <td>Coronavirus: How Shashi Tharoor Spent His MP F...</td>\n",
       "      <td>https://www.ndtv.com/kerala-news/coronavirus-h...</td>\n",
       "      <td>NotApplicable</td>\n",
       "    </tr>\n",
       "    <tr>\n",
       "      <th>1</th>\n",
       "      <td>Coronavirus</td>\n",
       "      <td>Muslims Spitting on Food, Hiding in Mosques to...</td>\n",
       "      <td>https://www.news18.com/news/buzz/muslims-spitt...</td>\n",
       "      <td>NotApplicable</td>\n",
       "    </tr>\n",
       "    <tr>\n",
       "      <th>2</th>\n",
       "      <td>Coronavirus</td>\n",
       "      <td>Explained: Sampling bias drove sensationalist ...</td>\n",
       "      <td>https://scroll.in/article/958392/explained-sam...</td>\n",
       "      <td>NotApplicable</td>\n",
       "    </tr>\n",
       "    <tr>\n",
       "      <th>3</th>\n",
       "      <td>Coronavirus</td>\n",
       "      <td>'Fear people in quarantine will be injected wi...</td>\n",
       "      <td>https://www.firstpost.com/health/fear-people-i...</td>\n",
       "      <td>NotApplicable</td>\n",
       "    </tr>\n",
       "    <tr>\n",
       "      <th>4</th>\n",
       "      <td>Coronavirus</td>\n",
       "      <td>Coronavirus &amp; Hydroxychloroquine -- India Cuts...</td>\n",
       "      <td>https://www.nationalreview.com/news/india-cuts...</td>\n",
       "      <td>NotApplicable</td>\n",
       "    </tr>\n",
       "  </tbody>\n",
       "</table>\n",
       "</div>"
      ],
      "text/plain": [
       "         flair                                              title  \\\n",
       "0  Coronavirus  Coronavirus: How Shashi Tharoor Spent His MP F...   \n",
       "1  Coronavirus  Muslims Spitting on Food, Hiding in Mosques to...   \n",
       "2  Coronavirus  Explained: Sampling bias drove sensationalist ...   \n",
       "3  Coronavirus  'Fear people in quarantine will be injected wi...   \n",
       "4  Coronavirus  Coronavirus & Hydroxychloroquine -- India Cuts...   \n",
       "\n",
       "                                                 url           body  \n",
       "0  https://www.ndtv.com/kerala-news/coronavirus-h...  NotApplicable  \n",
       "1  https://www.news18.com/news/buzz/muslims-spitt...  NotApplicable  \n",
       "2  https://scroll.in/article/958392/explained-sam...  NotApplicable  \n",
       "3  https://www.firstpost.com/health/fear-people-i...  NotApplicable  \n",
       "4  https://www.nationalreview.com/news/india-cuts...  NotApplicable  "
      ]
     },
     "execution_count": 8,
     "metadata": {},
     "output_type": "execute_result"
    }
   ],
   "source": [
    "df.head()"
   ]
  },
  {
   "cell_type": "markdown",
   "metadata": {},
   "source": [
    "Next, it's a good idea to check if there were really 200 posts scraped corresponding to each flair in accordance with the script written in PART-1."
   ]
  },
  {
   "cell_type": "code",
   "execution_count": 9,
   "metadata": {
    "scrolled": true
   },
   "outputs": [
    {
     "data": {
      "image/png": "[encoded data removed]",
      "text/plain": [
       "<Figure size 1440x360 with 1 Axes>"
      ]
     },
     "metadata": {
      "needs_background": "light"
     },
     "output_type": "display_data"
    }
   ],
   "source": [
    "mylist=df['flair'].value_counts()\n",
    "mydict=dict(mylist)\n",
    "plt.figure(figsize=(20,5))\n",
    "plt.bar(*zip(*mydict.items()))\n",
    "plt.xlabel(\"Flair\")\n",
    "plt.ylabel(\"Number of Posts\")\n",
    "plt.title(\"Data Visualization\")\n",
    "plt.show()"
   ]
  },
  {
   "cell_type": "markdown",
   "metadata": {},
   "source": [
    "The difference in the expected value and actual value corresponding to some columns is probably owing to the lack of posts with respect to that flair. This means that the model may find some difficulty in classifying posts as [R]eddiquette."
   ]
  },
  {
   "cell_type": "markdown",
   "metadata": {},
   "source": [
    "Just for our reference, let us find out the ratio of the posts that have a body. This is because the classifier will have more data to base its decision on in case of posts that have a title and a body. "
   ]
  },
  {
   "cell_type": "code",
   "execution_count": 10,
   "metadata": {},
   "outputs": [
    {
     "data": {
      "image/png": "[encoded data removed]",
      "text/plain": [
       "<Figure size 432x288 with 1 Axes>"
      ]
     },
     "metadata": {},
     "output_type": "display_data"
    }
   ],
   "source": [
    "x=[(df['body']=='NotApplicable').sum(),(df['body']!='NotApplicable').sum()]\n",
    "ll=['Without Body','With Body']\n",
    "fig = plt.figure()\n",
    "plt.pie(x,explode=None,labels=ll,autopct='%1.2f%%')\n",
    "plt.axis('equal')\n",
    "plt.show()"
   ]
  },
  {
   "cell_type": "markdown",
   "metadata": {},
   "source": [
    "So, a little over 50% of the posts have a body. "
   ]
  },
  {
   "cell_type": "markdown",
   "metadata": {},
   "source": [
    "## PART 3: BUILDING A FLAIR DETECTOR "
   ]
  },
  {
   "cell_type": "markdown",
   "metadata": {},
   "source": [
    "At this point,the structure and details of the scraped data are pretty clear. It is known that almost all categories of flairs have 200 posts in the dataset, almost 60% of the posts have additional text ie, a body and that none of our cells have a null value. With that, let's start building the flair detector."
   ]
  },
  {
   "cell_type": "markdown",
   "metadata": {},
   "source": [
    "A flair detector is essentially a multiclass text classifier. To build one, the text must be preprocessed. Then, an algorithm should be picked, based on its performance in classifying the posts correctly. "
   ]
  },
  {
   "cell_type": "markdown",
   "metadata": {},
   "source": [
    "### PREPROCESSING TEXT"
   ]
  },
  {
   "cell_type": "markdown",
   "metadata": {},
   "source": [
    "Steps involved:\n",
    "1. Remove html \n",
    "2. Remove punctuation, extra white spaces and special characters \n",
    "3. Convert all text to lower case\n",
    "4. Tokenize \n",
    "5. Removing StopWords\n",
    "6. Lemmatize "
   ]
  },
  {
   "cell_type": "markdown",
   "metadata": {},
   "source": [
    "Since Removing html links seems to be a key step in text preprocessing, let us get rid of the column of urls in our dataframe for now. If the classifier performs poorly, we can always add the column and train the classifier again."
   ]
  },
  {
   "cell_type": "code",
   "execution_count": 11,
   "metadata": {},
   "outputs": [],
   "source": [
    "df2=df.drop(['url'],axis=1)"
   ]
  },
  {
   "cell_type": "markdown",
   "metadata": {},
   "source": [
    "For the purpose of reusability, we define a text cleaning function as shown below:"
   ]
  },
  {
   "cell_type": "code",
   "execution_count": 12,
   "metadata": {},
   "outputs": [],
   "source": [
    "specialSymbols= re.compile('[/(){}\\[\\]\\|@,;]')\n",
    "otherSymbols=re.compile('[^0-9a-z #+_]')\n",
    "STOPWORDS=set(stopwords.words('english'))"
   ]
  },
  {
   "cell_type": "code",
   "execution_count": 13,
   "metadata": {},
   "outputs": [],
   "source": [
    "df2['title']=df2['title'].astype(str)\n",
    "df2['body']=df2['body'].astype(str)\n",
    "df2['flair']=df2['flair'].astype(str)"
   ]
  },
  {
   "cell_type": "code",
   "execution_count": 14,
   "metadata": {},
   "outputs": [],
   "source": [
    "def clean_text(text):\n",
    "    #Convert to lowercase\n",
    "    text=text.lower()\n",
    "    #Remove punctuation and special symbols\n",
    "    text=specialSymbols.sub(' ', text)\n",
    "    text=otherSymbols.sub('', text) \n",
    "    #Remove Stopwords\n",
    "    text=' '.join(word for word in text.split() if word not in STOPWORDS)\n",
    "    return text"
   ]
  },
  {
   "cell_type": "code",
   "execution_count": 15,
   "metadata": {},
   "outputs": [],
   "source": [
    "df2['title']=df2['title'].apply(clean_text)\n",
    "df2['body']=df2['body'].apply(clean_text)\n",
    "df2['flair']=df2['flair'].apply(clean_text)"
   ]
  },
  {
   "cell_type": "code",
   "execution_count": 16,
   "metadata": {},
   "outputs": [],
   "source": [
    "#Tokenize and convert to lower case \n",
    "from nltk.tokenize import RegexpTokenizer \n",
    "tokenizer=RegexpTokenizer(r'\\w+')\n",
    "df2['title']=df2['title'].apply(lambda x: tokenizer.tokenize(x))\n",
    "df2['body']=df2['body'].apply(lambda x: tokenizer.tokenize(x))\n",
    "df2['flair']=df2['flair'].apply(lambda x: tokenizer.tokenize(x))"
   ]
  },
  {
   "cell_type": "markdown",
   "metadata": {},
   "source": [
    "The only thing left, in terms of preprocessing, is lemmatization. There is always a choice between stemming and lemmatization. The difference between the two is that the former focuses on dropping the suffixes of words. Using stemming, the words smart, smarter and smartest are treated as the same word. On the other hand, Lemmatization focuses on the morphology of the words. Good and Better are group under the same category using lemmatization. "
   ]
  },
  {
   "cell_type": "markdown",
   "metadata": {},
   "source": [
    "Here, Lemmatization seems like the better choice because we are grouping texts into categories. The meaning of the words more than their grammatical form. "
   ]
  },
  {
   "cell_type": "code",
   "execution_count": 17,
   "metadata": {},
   "outputs": [],
   "source": [
    "#Lemmatization\n",
    "from nltk.stem import WordNetLemmatizer\n",
    "lemmatizer=WordNetLemmatizer()\n",
    "df2['body']=df2['body'].apply(lambda x: lemmatizer.lemmatize(str(x)))\n",
    "df2['title']=df2['title'].apply(lambda x: lemmatizer.lemmatize(str(x)))"
   ]
  },
  {
   "cell_type": "code",
   "execution_count": 18,
   "metadata": {},
   "outputs": [
    {
     "data": {
      "text/html": [
       "<div>\n",
       "<style scoped>\n",
       "    .dataframe tbody tr th:only-of-type {\n",
       "        vertical-align: middle;\n",
       "    }\n",
       "\n",
       "    .dataframe tbody tr th {\n",
       "        vertical-align: top;\n",
       "    }\n",
       "\n",
       "    .dataframe thead th {\n",
       "        text-align: right;\n",
       "    }\n",
       "</style>\n",
       "<table border=\"1\" class=\"dataframe\">\n",
       "  <thead>\n",
       "    <tr style=\"text-align: right;\">\n",
       "      <th></th>\n",
       "      <th>flair</th>\n",
       "      <th>title</th>\n",
       "      <th>body</th>\n",
       "    </tr>\n",
       "  </thead>\n",
       "  <tbody>\n",
       "    <tr>\n",
       "      <th>0</th>\n",
       "      <td>[coronavirus]</td>\n",
       "      <td>['coronavirus', 'shashi', 'tharoor', 'spent', ...</td>\n",
       "      <td>['notapplicable']</td>\n",
       "    </tr>\n",
       "    <tr>\n",
       "      <th>1</th>\n",
       "      <td>[coronavirus]</td>\n",
       "      <td>['muslims', 'spitting', 'food', 'hiding', 'mos...</td>\n",
       "      <td>['notapplicable']</td>\n",
       "    </tr>\n",
       "    <tr>\n",
       "      <th>2</th>\n",
       "      <td>[coronavirus]</td>\n",
       "      <td>['explained', 'sampling', 'bias', 'drove', 'se...</td>\n",
       "      <td>['notapplicable']</td>\n",
       "    </tr>\n",
       "    <tr>\n",
       "      <th>3</th>\n",
       "      <td>[coronavirus]</td>\n",
       "      <td>['fear', 'people', 'quarantine', 'injected', '...</td>\n",
       "      <td>['notapplicable']</td>\n",
       "    </tr>\n",
       "    <tr>\n",
       "      <th>4</th>\n",
       "      <td>[coronavirus]</td>\n",
       "      <td>['coronavirus', 'hydroxychloroquine', 'india',...</td>\n",
       "      <td>['notapplicable']</td>\n",
       "    </tr>\n",
       "  </tbody>\n",
       "</table>\n",
       "</div>"
      ],
      "text/plain": [
       "           flair                                              title  \\\n",
       "0  [coronavirus]  ['coronavirus', 'shashi', 'tharoor', 'spent', ...   \n",
       "1  [coronavirus]  ['muslims', 'spitting', 'food', 'hiding', 'mos...   \n",
       "2  [coronavirus]  ['explained', 'sampling', 'bias', 'drove', 'se...   \n",
       "3  [coronavirus]  ['fear', 'people', 'quarantine', 'injected', '...   \n",
       "4  [coronavirus]  ['coronavirus', 'hydroxychloroquine', 'india',...   \n",
       "\n",
       "                body  \n",
       "0  ['notapplicable']  \n",
       "1  ['notapplicable']  \n",
       "2  ['notapplicable']  \n",
       "3  ['notapplicable']  \n",
       "4  ['notapplicable']  "
      ]
     },
     "execution_count": 18,
     "metadata": {},
     "output_type": "execute_result"
    }
   ],
   "source": [
    "df2.head()"
   ]
  },
  {
   "cell_type": "markdown",
   "metadata": {},
   "source": [
    "### MODEL BUILDING AND TESTING"
   ]
  },
  {
   "cell_type": "markdown",
   "metadata": {},
   "source": [
    "Now that the data has been properly preprocessed, the testing of different models can be done to see which algorithm has the highest efficiency. "
   ]
  },
  {
   "cell_type": "code",
   "execution_count": 19,
   "metadata": {},
   "outputs": [],
   "source": [
    "#Import necessary libraries\n",
    "from sklearn.preprocessing import LabelEncoder\n",
    "from collections import defaultdict\n",
    "from sklearn.feature_extraction.text import TfidfVectorizer\n",
    "from sklearn import model_selection, naive_bayes, svm\n",
    "from sklearn.metrics import accuracy_score\n",
    "from sklearn.metrics import f1_score\n",
    "%matplotlib inline"
   ]
  },
  {
   "cell_type": "code",
   "execution_count": 20,
   "metadata": {},
   "outputs": [],
   "source": [
    "#Make a df with string type to use with Label Encoder\n",
    "df3=df2\n",
    "df3['title']=df3['title'].astype(str)\n",
    "df3['flair']=df3['flair'].astype(str)\n",
    "df3['body']=df3['body'].astype(str)"
   ]
  },
  {
   "cell_type": "code",
   "execution_count": 21,
   "metadata": {},
   "outputs": [],
   "source": [
    "#Splitting Dataset in Training and Testing sets\n",
    "Train_X, Test_X, Train_Y, Test_Y = model_selection.train_test_split(df3['title'],df3['flair'],test_size=0.3)"
   ]
  },
  {
   "cell_type": "code",
   "execution_count": 22,
   "metadata": {},
   "outputs": [],
   "source": [
    "#Encoding to convert Y values into numeric form \n",
    "Encoder=LabelEncoder()\n",
    "Train_Y=Encoder.fit_transform(Train_Y)\n",
    "Test_Y=Encoder.fit_transform(Test_Y)"
   ]
  },
  {
   "cell_type": "code",
   "execution_count": 23,
   "metadata": {},
   "outputs": [],
   "source": [
    "#Using TFIDF Vectorizer to turn a collection of words into feature vectors \n",
    "Tfidf_vect=TfidfVectorizer(max_features=2000)\n",
    "Tfidf_vect.fit(df3['title'])\n",
    "#print(Tfidf_vect.vocabulary_)\n",
    "Train_X_Tfidf=Tfidf_vect.transform(Train_X)\n",
    "Test_X_Tfidf=Tfidf_vect.transform(Test_X)"
   ]
  },
  {
   "cell_type": "code",
   "execution_count": 24,
   "metadata": {},
   "outputs": [
    {
     "name": "stdout",
     "output_type": "stream",
     "text": [
      "Naive Bayes Accuracy Score ->  65.41471048513301\n"
     ]
    }
   ],
   "source": [
    "#MODEL 1: NAIVE BAYES\n",
    "Naive=naive_bayes.MultinomialNB()\n",
    "Naive.fit(Train_X_Tfidf,Train_Y)\n",
    "predictions_NB = Naive.predict(Test_X_Tfidf)\n",
    "print(\"Naive Bayes Accuracy Score -> \",accuracy_score(predictions_NB, Test_Y)*100)"
   ]
  },
  {
   "cell_type": "code",
   "execution_count": 25,
   "metadata": {},
   "outputs": [
    {
     "data": {
      "text/plain": [
       "0.6541471048513302"
      ]
     },
     "execution_count": 25,
     "metadata": {},
     "output_type": "execute_result"
    }
   ],
   "source": [
    "#Finding F1 Score\n",
    "f1_score(Test_Y, predictions_NB, average='micro')"
   ]
  },
  {
   "cell_type": "code",
   "execution_count": 26,
   "metadata": {},
   "outputs": [
    {
     "name": "stdout",
     "output_type": "stream",
     "text": [
      "SVM Accuracy Score ->  67.2926447574335\n"
     ]
    }
   ],
   "source": [
    "#MODEL 2: SVM WITH LINEAR KERNEL \n",
    "SVM=svm.SVC(C=1.0,kernel='linear',degree=3,gamma='auto')\n",
    "SVM.fit(Train_X_Tfidf,Train_Y)\n",
    "predictions_SVM=SVM.predict(Test_X_Tfidf)\n",
    "print(\"SVM Accuracy Score -> \",accuracy_score(predictions_SVM, Test_Y)*100)"
   ]
  },
  {
   "cell_type": "markdown",
   "metadata": {},
   "source": [
    "SVM performed marginally better than the Naive Bayes Classifier. "
   ]
  },
  {
   "cell_type": "code",
   "execution_count": 27,
   "metadata": {},
   "outputs": [
    {
     "data": {
      "text/plain": [
       "0.672926447574335"
      ]
     },
     "execution_count": 27,
     "metadata": {},
     "output_type": "execute_result"
    }
   ],
   "source": [
    "#Finding F1 Score\n",
    "f1_score(Test_Y, predictions_SVM, average='micro')"
   ]
  },
  {
   "cell_type": "code",
   "execution_count": 28,
   "metadata": {},
   "outputs": [
    {
     "name": "stdout",
     "output_type": "stream",
     "text": [
      "LR Accuracy Score ->  68.85758998435054\n"
     ]
    }
   ],
   "source": [
    "#MODEL 3: ONE-VS-ALL CLASSIFICATION USING LOGISTIC REGRESSION\n",
    "from sklearn.linear_model import LogisticRegression\n",
    "LR=LogisticRegression(random_state=0).fit(Train_X_Tfidf,Train_Y)\n",
    "predictions_LR=LR.predict(Test_X_Tfidf)\n",
    "print(\"LR Accuracy Score -> \",accuracy_score(predictions_LR, Test_Y)*100)"
   ]
  },
  {
   "cell_type": "code",
   "execution_count": 29,
   "metadata": {},
   "outputs": [
    {
     "data": {
      "text/plain": [
       "0.6885758998435054"
      ]
     },
     "execution_count": 29,
     "metadata": {},
     "output_type": "execute_result"
    }
   ],
   "source": [
    "#Finding F1 Score\n",
    "f1_score(Test_Y, predictions_LR, average='micro')"
   ]
  },
  {
   "cell_type": "markdown",
   "metadata": {},
   "source": [
    "So, the logistic regression model, which follows one vs all classification for multiclass classification purposes, outperforms the other models we have build so far. "
   ]
  },
  {
   "cell_type": "code",
   "execution_count": 30,
   "metadata": {},
   "outputs": [
    {
     "name": "stdout",
     "output_type": "stream",
     "text": [
      "KNN Accuracy Score ->  59.780907668231606\n"
     ]
    }
   ],
   "source": [
    "#MODEL 4: K NEAREST NEIGHBOURS \n",
    "from sklearn.neighbors import KNeighborsClassifier \n",
    "KNN=KNeighborsClassifier(n_neighbors=50).fit(Train_X_Tfidf,Train_Y) \n",
    "predictions_KNN=KNN.predict(Test_X_Tfidf)\n",
    "print(\"KNN Accuracy Score -> \",accuracy_score(predictions_KNN, Test_Y)*100)"
   ]
  },
  {
   "cell_type": "code",
   "execution_count": 31,
   "metadata": {},
   "outputs": [
    {
     "data": {
      "text/plain": [
       "0.5978090766823161"
      ]
     },
     "execution_count": 31,
     "metadata": {},
     "output_type": "execute_result"
    }
   ],
   "source": [
    "#Finding F1 Score\n",
    "f1_score(Test_Y, predictions_KNN, average='micro')"
   ]
  },
  {
   "cell_type": "code",
   "execution_count": 32,
   "metadata": {},
   "outputs": [
    {
     "name": "stdout",
     "output_type": "stream",
     "text": [
      "Decision Tree Accuracy Score ->  65.10172143974961\n"
     ]
    }
   ],
   "source": [
    "#MODEL 5: DECISION TREE\n",
    "from sklearn.tree import DecisionTreeClassifier \n",
    "DTC=DecisionTreeClassifier(max_depth=75).fit(Train_X_Tfidf,Train_Y) \n",
    "predictions_DTC=DTC.predict(Test_X_Tfidf)\n",
    "print(\"Decision Tree Accuracy Score -> \",accuracy_score(predictions_DTC, Test_Y)*100)"
   ]
  },
  {
   "cell_type": "code",
   "execution_count": 33,
   "metadata": {},
   "outputs": [
    {
     "data": {
      "text/plain": [
       "0.651017214397496"
      ]
     },
     "execution_count": 33,
     "metadata": {},
     "output_type": "execute_result"
    }
   ],
   "source": [
    "#Finding F1 Score\n",
    "f1_score(Test_Y, predictions_DTC, average='micro')"
   ]
  },
  {
   "cell_type": "code",
   "execution_count": 34,
   "metadata": {},
   "outputs": [
    {
     "name": "stdout",
     "output_type": "stream",
     "text": [
      "Random Forest Accuracy Score ->  67.2926447574335\n"
     ]
    }
   ],
   "source": [
    "#MODEL 6: RANDOM FOREST \n",
    "from sklearn.ensemble import RandomForestClassifier\n",
    "RF=RandomForestClassifier(n_estimators=150)\n",
    "RF.fit(Train_X_Tfidf,Train_Y) \n",
    "predictions_RF=RF.predict(Test_X_Tfidf)\n",
    "print(\"Random Forest Accuracy Score -> \",accuracy_score(predictions_RF, Test_Y)*100)"
   ]
  },
  {
   "cell_type": "code",
   "execution_count": 35,
   "metadata": {},
   "outputs": [
    {
     "data": {
      "text/plain": [
       "0.672926447574335"
      ]
     },
     "execution_count": 35,
     "metadata": {},
     "output_type": "execute_result"
    }
   ],
   "source": [
    "#Finding F1 Score\n",
    "f1_score(Test_Y, predictions_RF, average='micro')"
   ]
  },
  {
   "cell_type": "code",
   "execution_count": 36,
   "metadata": {},
   "outputs": [
    {
     "name": "stdout",
     "output_type": "stream",
     "text": [
      "Ridge Classifier Score ->  67.91862284820031\n"
     ]
    }
   ],
   "source": [
    "#MODEL 7: RIDGE CLASSIFIER\n",
    "from sklearn.linear_model import RidgeClassifier\n",
    "RC=RidgeClassifier()\n",
    "RC.fit(Train_X_Tfidf,Train_Y) \n",
    "predictions_RC=RC.predict(Test_X_Tfidf)\n",
    "print(\"Ridge Classifier Score -> \",accuracy_score(predictions_RC, Test_Y)*100)"
   ]
  },
  {
   "cell_type": "code",
   "execution_count": 37,
   "metadata": {},
   "outputs": [
    {
     "name": "stdout",
     "output_type": "stream",
     "text": [
      "Extra Trees Accuracy Score ->  66.04068857589984\n"
     ]
    }
   ],
   "source": [
    "#MODEL 8: EXTRA TREES CLASSIFIER\n",
    "from sklearn.ensemble import ExtraTreesClassifier\n",
    "ETC=ExtraTreesClassifier(n_estimators=150)\n",
    "ETC.fit(Train_X_Tfidf,Train_Y) \n",
    "predictions_ETC=ETC.predict(Test_X_Tfidf)\n",
    "print(\"Extra Trees Accuracy Score -> \",accuracy_score(predictions_ETC, Test_Y)*100)"
   ]
  },
  {
   "cell_type": "code",
   "execution_count": 38,
   "metadata": {},
   "outputs": [
    {
     "name": "stdout",
     "output_type": "stream",
     "text": [
      "Extra Tree Accuracy Score ->  54.30359937402191\n"
     ]
    }
   ],
   "source": [
    "#MODEL 9: EXTRA TREE CLASSIFIER\n",
    "from sklearn.tree import ExtraTreeClassifier\n",
    "ET=ExtraTreeClassifier()\n",
    "ET.fit(Train_X_Tfidf,Train_Y)\n",
    "predictions_ET=ET.predict(Test_X_Tfidf)\n",
    "print(\"Extra Tree Accuracy Score -> \",accuracy_score(predictions_ET, Test_Y)*100)"
   ]
  },
  {
   "cell_type": "code",
   "execution_count": 39,
   "metadata": {},
   "outputs": [
    {
     "name": "stdout",
     "output_type": "stream",
     "text": [
      "Nearest Centroid Accuracy Score ->  66.97965571205008\n"
     ]
    }
   ],
   "source": [
    "#MODEL 10: NEAREST CENTROID ACCURACY \n",
    "from sklearn.neighbors import NearestCentroid\n",
    "NC=NearestCentroid()\n",
    "NC.fit(Train_X_Tfidf,Train_Y) \n",
    "predictions_NC=NC.predict(Test_X_Tfidf)\n",
    "print(\"Nearest Centroid Accuracy Score -> \",accuracy_score(predictions_NC, Test_Y)*100)"
   ]
  },
  {
   "cell_type": "code",
   "execution_count": 40,
   "metadata": {},
   "outputs": [
    {
     "name": "stdout",
     "output_type": "stream",
     "text": [
      "PAC Accuracy Score ->  66.66666666666666\n"
     ]
    }
   ],
   "source": [
    "#MODEL 11: Passive Aggressive Classifier \n",
    "from sklearn.linear_model import PassiveAggressiveClassifier\n",
    "PAC=PassiveAggressiveClassifier(max_iter=1000, random_state=0,tol=1e-3)\n",
    "PAC.fit(Train_X_Tfidf,Train_Y) \n",
    "predictions_PAC=PAC.predict(Test_X_Tfidf)\n",
    "print(\"PAC Accuracy Score -> \",accuracy_score(predictions_PAC, Test_Y)*100)"
   ]
  },
  {
   "cell_type": "code",
   "execution_count": 41,
   "metadata": {},
   "outputs": [
    {
     "name": "stdout",
     "output_type": "stream",
     "text": [
      "SGD Accuracy Score ->  67.13615023474179\n"
     ]
    }
   ],
   "source": [
    "#MODEL 12: SGD Classifier\n",
    "from sklearn import linear_model\n",
    "SGD=linear_model.SGDClassifier(max_iter=1000, tol=1e-3)\n",
    "SGD.fit(Train_X_Tfidf,Train_Y)\n",
    "predictions_SGD=SGD.predict(Test_X_Tfidf)\n",
    "print(\"SGD Accuracy Score -> \",accuracy_score(predictions_SGD, Test_Y)*100)"
   ]
  },
  {
   "cell_type": "code",
   "execution_count": 42,
   "metadata": {},
   "outputs": [
    {
     "name": "stdout",
     "output_type": "stream",
     "text": [
      "Perceptron Accuracy Score ->  61.03286384976526\n"
     ]
    }
   ],
   "source": [
    "#MODEL 13: PERCEPTRON CLASSIFIER \n",
    "from sklearn.linear_model import Perceptron\n",
    "PC=Perceptron(tol=1e-3, random_state=0)\n",
    "PC.fit(Train_X_Tfidf,Train_Y)\n",
    "predictions_PC=PC.predict(Test_X_Tfidf)\n",
    "print(\"Perceptron Accuracy Score -> \",accuracy_score(predictions_PC, Test_Y)*100)"
   ]
  },
  {
   "cell_type": "code",
   "execution_count": 43,
   "metadata": {},
   "outputs": [
    {
     "name": "stdout",
     "output_type": "stream",
     "text": [
      "GBC Accuracy Score ->  64.63223787167449\n"
     ]
    }
   ],
   "source": [
    "#MODEL 14: GRADIENT BOOSTING CLASSIFIER \n",
    "from sklearn.ensemble import GradientBoostingClassifier\n",
    "GBC=GradientBoostingClassifier(n_estimators=130)\n",
    "GBC.fit(Train_X_Tfidf,Train_Y)\n",
    "predictions_GBC=GBC.predict(Test_X_Tfidf)\n",
    "print(\"GBC Accuracy Score -> \",accuracy_score(predictions_GBC, Test_Y)*100)"
   ]
  },
  {
   "cell_type": "markdown",
   "metadata": {},
   "source": [
    "Thus, we find that all the algorithms yield us an accuracy which is less than 70%. Let us see if we can achieve better scores using better models."
   ]
  },
  {
   "cell_type": "markdown",
   "metadata": {},
   "source": [
    "### USING BERT AS A MULTI-CLASS TEXT CLASSIFIER:"
   ]
  },
  {
   "cell_type": "markdown",
   "metadata": {},
   "source": [
    "Bidirectional Encoder Representations from Transformers (BERT) is a technique for NLP (Natural Language Processing) pre-training developed by Google. Created and published in 2018, it is considered a state of the art NLP model. BERT uses bidirection training on Transformer and applies it to language modelling, so that the model has a deeper sense of context and lingual flow. Let us see how BERT performs in the task of flair detection."
   ]
  },
  {
   "cell_type": "markdown",
   "metadata": {},
   "source": [
    "### NOTE: Due to a software issue, ktrain and praw are incompatible with this version of jupyter notebook. Thus, I have uploaded this code as rawNB snippets instead of code snippets. However, this code is executable on any platform running python3.7."
   ]
  },
  {
   "cell_type": "markdown",
   "metadata": {},
   "source": [
    "### The script which I used for execution has been uploaded as Bert.py on this same repo."
   ]
  },
  {
   "cell_type": "raw",
   "metadata": {},
   "source": [
    "#Importing necessary libraries\n",
    "import ktrain\n",
    "import tensorflow as tf\n",
    "from ktrain import text\n",
    "import pandas as pd\n",
    "import numpy as np\n",
    "import sys\n",
    "import csv"
   ]
  },
  {
   "cell_type": "raw",
   "metadata": {},
   "source": [
    "#To ensure data is loaded without system error\n",
    "maxInt=sys.maxsize\n",
    "while True:\n",
    "    try:\n",
    "        csv.field_size_limit(maxInt)\n",
    "        break\n",
    "    except OverflowError:\n",
    "        maxInt=int(maxInt/10)"
   ]
  },
  {
   "cell_type": "markdown",
   "metadata": {},
   "source": [
    "Tfdata.csv is a file which has the same contents of rIndia2.csv, in a shuffled order. Shuffling was done using the following code so that divison into train and test sets becomes easier. "
   ]
  },
  {
   "cell_type": "raw",
   "metadata": {},
   "source": [
    "#Script to rearrange the content of existing dataset\n",
    "import pandas as pd\n",
    "df=pd.read_csv(\"/home/smriti/MIDAS/rIndia2.csv\")\n",
    "df=df.sample(frac=1)\n",
    "df.to_csv(\"TFdata.csv\")"
   ]
  },
  {
   "cell_type": "raw",
   "metadata": {},
   "source": [
    "#Load the dataset into lists\n",
    "titles=[]\n",
    "labels=[]\n",
    "with open(\"TFdata.csv\",'r') as csvfile:\n",
    "    reader=csv.reader(csvfile,delimiter=',')\n",
    "    next(reader)\n",
    "    for row in reader:\n",
    "        labels.append(row[1])\n",
    "        title=row[2]\n",
    "        titles.append(title)"
   ]
  },
  {
   "cell_type": "raw",
   "metadata": {},
   "source": [
    "#Having loaded the data into lists, it is divided into training set and a test set.\n",
    "train_size=int(len(titles)*0.8)\n",
    "x_train=titles[0:train_size]\n",
    "y_train=labels[0:train_size]\n",
    "x_test=titles[train_size:]\n",
    "y_test=labels[train_size:]"
   ]
  },
  {
   "cell_type": "raw",
   "metadata": {},
   "source": [
    "#defining the classes of categorization (In this case, Bert is able to pick up on the categories on its own)\n",
    "flairs=[\"Coronavirus\",\"Politics\",\"NonPolitical\",\"AskIndia\",\"BusinessorFinance\",\"PolicyorEconomy\",\"Photography\",\"CAA\",\"ScienceorTechnology\",\"Reddiquette\",\"Entertainment\",\"Sports\"]\n",
    "\n",
    "#preprocessing the train and test sets\n",
    "(x_train,  y_train), (x_test, y_test), preproc = text.texts_from_array(x_train=x_train, y_train=y_train,\n",
    "                                                                       x_test=x_test, y_test=y_test,\n",
    "                                                                       class_names=flairs,\n",
    "                                                                       preprocess_mode='bert',\n",
    "                                                                       ngram_range=1,\n",
    "                                                                       maxlen=350,\n",
    "                                                                       max_features=35000)"
   ]
  },
  {
   "cell_type": "raw",
   "metadata": {},
   "source": [
    "#assigning parameters to the model\n",
    "model=text.text_classifier('bert', train_data=(x_train, y_train), preproc=preproc)\n",
    "\n",
    "#Defining the model\n",
    "learner = ktrain.get_learner(model, train_data=(x_train, y_train),batch_size=5)"
   ]
  },
  {
   "cell_type": "raw",
   "metadata": {},
   "source": [
    "#Training the model with 5 epochs and learning rate 0.05\n",
    "learner.fit(2e-5, 5)\n",
    "\n",
    "#Testing the model on test set\n",
    "learner.validate(val_data=(x_test, y_test))"
   ]
  },
  {
   "cell_type": "markdown",
   "metadata": {},
   "source": [
    "### Here, we observe an accuracy of 97% and an F-Score of 0.80. Clearly, Bert is the best algorithm we have tried out so far."
   ]
  },
  {
   "cell_type": "raw",
   "metadata": {},
   "source": [
    "#Saving the model\n",
    "predictor=ktrain.get_predictor(learner.model, preproc)\n",
    "predictor.save('flairdetector')\n",
    "print('*********************************MODEL SAVED***************************************************')\n",
    "\n",
    "#Saving model to disk\n",
    "predictor.save('/tmp/my_flairdetector')\n",
    "print('*********************************MODEL SAVED TO DISK***************************************************')"
   ]
  },
  {
   "cell_type": "markdown",
   "metadata": {},
   "source": [
    "Once the model is saved, it can be called and tested as per our requirements using the following code snippet:"
   ]
  },
  {
   "cell_type": "raw",
   "metadata": {},
   "source": [
    "import praw\n",
    "def ExtractTitle(str):\n",
    "    r=praw.Reddit(client_id='XBKwye9TxZkelw', client_secret='pJPIYzpSWnx3BSMm8xuIQTohQxk', user_agent='Title Extractor')\n",
    "    submission=r.submission(url=str)\n",
    "    print(submission.title)\n",
    "    x=[]\n",
    "    x.append(submission.title)\n",
    "    return x\n",
    "\n",
    "str=input(\"Enter link to post.   \")\n",
    "data=ExtractTitle(str)\n",
    "\n",
    "import ktrain\n",
    "from ktrain import text\n",
    "predictor=ktrain.load_predictor('flairdetector')\n",
    "#print(predictor.explain(data))\n",
    "print(predictor.predict(data))"
   ]
  },
  {
   "cell_type": "markdown",
   "metadata": {},
   "source": [
    "### ERROR ANALYSIS:"
   ]
  },
  {
   "cell_type": "markdown",
   "metadata": {},
   "source": [
    "Like any machine learning algorithm, Bert makes mistakes too. These are the following reasons Bert could provide an erroneous classification:"
   ]
  },
  {
   "cell_type": "markdown",
   "metadata": {},
   "source": [
    "1. QUESTIONS IN ASK INDIA:\n",
    "   Since the category of AskIndia is full of questions on rIndia, this classifier thinks all questions come under AskIndia. Thus, even a post titled \"Is India capable of saving its hospitals so that its hospitals can save it?\" will be classified as \"AskIndia\" as opposed to \"Coronavirus\"."
   ]
  },
  {
   "cell_type": "markdown",
   "metadata": {},
   "source": [
    "2. MISUNDERSTANDING KEY WORDS IN SENTENCES:\n",
    "   The classifier doesn't do that well with understanding context around some key words. For example, a post titled \"A thrilling game of thrones\" will be marked \"Sports\" as opposed to \"Entertainment\", because the classifier views the word 'game' as something that can only be related to sports."
   ]
  },
  {
   "cell_type": "markdown",
   "metadata": {},
   "source": [
    "3. ALTERNATIVE CONTEXT BASED PREDICTION: In certain cases, the classifier seems to be understanding the posy properly but categorizing it to belong to another class. For instance, the post titled \" A Day with the Indian Womens’ Hockey Team\" is categorized as 'Sports' by Bert, whereas on rIndia, it is categorized as 'Entertainment'. Clearly, neither of the classifications are actually incorrect. \n"
   ]
  },
  {
   "cell_type": "code",
   "execution_count": null,
   "metadata": {},
   "outputs": [],
   "source": []
  }
 ],
 "metadata": {
  "kernelspec": {
   "display_name": "Python 3",
   "language": "python",
   "name": "python3"
  },
  "language_info": {
   "codemirror_mode": {
    "name": "ipython",
    "version": 3
   },
   "file_extension": ".py",
   "mimetype": "text/x-python",
   "name": "python",
   "nbconvert_exporter": "python",
   "pygments_lexer": "ipython3",
   "version": "3.5.2"
  }
 },
 "nbformat": 4,
 "nbformat_minor": 2
}
